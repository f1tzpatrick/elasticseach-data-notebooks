{
 "cells": [
  {
   "cell_type": "code",
   "execution_count": 8,
   "metadata": {},
   "outputs": [],
   "source": [
    "import json\n",
    "from pathlib import Path\n",
    "from datetime import datetime\n",
    "\n",
    "import pandas as pd\n",
    "from matplotlib import pyplot as plt\n",
    "from matplotlib.ticker import FuncFormatter\n",
    "\n",
    "from python.snapshots import read_snapshot_json, lookup_snapshot_size\n",
    "from python.indices import read_indices_json, get_index_snapshot_history\n",
    "\n",
    "\n",
    "DATE = \"2021-10-01\"\n",
    "data_dir = Path.home()/\"Notebooks\"/\"Elasticsearch Data Usage\"/\"data\"/DATE"
   ]
  },
  {
   "cell_type": "code",
   "execution_count": null,
   "metadata": {},
   "outputs": [],
   "source": [
    "site_data = {}\n",
    "for site_dir in data_dir.glob('[!.]*'):\n",
    "    site = site_dir.name\n",
    "    print(f\"Reading {site} data\")\n",
    "    index_data_file = site_dir/\"indices.json\"\n",
    "    snapshots_data_file = site_dir/\"snapshots.json\"\n",
    "    snapshot_detail_dir = site_dir/\"snapshot_details\"\n",
    "\n",
    "    snapshot_data = read_snapshot_json(snapshots_data_file)\n",
    "    for snapshot in list(snapshot_data):\n",
    "        snapshot_data[snapshot]['site'] = site\n",
    "        detail_file = snapshot_detail_dir/f\"{snapshot}.json\"\n",
    "        size = lookup_snapshot_size(detail_file)\n",
    "        snapshot_data[snapshot].update(size)\n",
    "    snapshot_data = pd.DataFrame.from_dict(snapshot_data, orient='index')\n",
    "\n",
    "    index_data = read_indices_json(index_data_file)\n",
    "    for index in list(index_data):\n",
    "        snapshot_history = get_index_snapshot_history(snapshots_data_file, index)\n",
    "        index_data[index].update(snapshot_history)\n",
    "    index_data = pd.DataFrame.from_dict(index_data, orient='index')\n",
    "\n",
    "    snapshot_data.to_csv(site_dir/f\"{site}-snapshot-history.csv\")\n",
    "    index_data.to_csv(site_dir/f\"{site}-index-history.csv\")\n",
    "\n",
    "    site_data[site] = {}\n",
    "    site_data[site]['snapshot_data'] = snapshot_data\n",
    "    site_data[site]['index_data'] = index_data\n",
    "\n",
    "\n",
    "snapshot_data = pd.concat(\n",
    "    [site_data[site]['snapshot_data'] for site in site_data]\n",
    ")\n",
    "index_data = pd.concat(\n",
    "    [site_data[site]['index_data'] for site in site_data]\n",
    ")"
   ]
  },
  {
   "cell_type": "code",
   "execution_count": 4,
   "metadata": {},
   "outputs": [
    {
     "name": "stdout",
     "output_type": "stream",
     "text": [
      "5530.75 GiB storage required for retention on average\n",
      "\n",
      "Each day (GiB): \n",
      "\n",
      "kind\n",
      "non-security-logs    32.991709\n",
      "security-logs        25.227764\n",
      "Name: incremental_size_bytes, dtype: float64\n"
     ]
    }
   ],
   "source": [
    "# Anticipated Storage Req based on recent usage patterns\n",
    "recent_cutoff = datetime.today() - pd.to_timedelta('30d')\n",
    "recent_snapshots = snapshot_data[snapshot_data.start_time_utc > recent_cutoff]\n",
    "\n",
    "recent_avg_size = recent_snapshots.groupby(['kind'])['incremental_size_bytes'].mean() / 1024 ** 3\n",
    "anticipated_storage_requirement = (recent_avg_size['security-logs'] * 180) + (recent_avg_size['non-security-logs'] * 30)\n",
    "print(f\"{anticipated_storage_requirement:.2f} GiB storage required for retention on average\\n\")\n",
    "\n",
    "print(f\"Each day (GiB): \\n\\n{recent_avg_size}\")"
   ]
  },
  {
   "cell_type": "code",
   "execution_count": 7,
   "metadata": {},
   "outputs": [],
   "source": [
    "snapshot_data.to_csv(data_dir/f\"snapshot-history.csv\")\n",
    "index_data.to_csv(data_dir/f\"index-history.csv\")"
   ]
  },
  {
   "cell_type": "code",
   "execution_count": null,
   "metadata": {},
   "outputs": [],
   "source": [
    "# Average Snapshot size across all sites\n",
    "plt.close()\n",
    "avg_incremental_size_bytes = snapshot_data.groupby(['kind','snapshot_date'])['incremental_size_bytes'].mean()\n",
    "fig, ax = plt.subplots()\n",
    "ax.yaxis.set_major_formatter(FuncFormatter(lambda y, pos: f\"{y/1024**3:.2f}\"))\n",
    "fig.set_size_inches(16,9)\n",
    "\n",
    "plt.plot(avg_incremental_size_bytes['security-logs'], label='security-logs')\n",
    "plt.plot(avg_incremental_size_bytes['non-security-logs'], label='non-security-logs')\n",
    "\n",
    "plt.ylabel('Average Incremental Snapshot Size (GiB)')\n",
    "plt.title(\"Snapshot Sizes over Time\")\n",
    "\n",
    "plt.style.use(\"fivethirtyeight\")\n",
    "plt.legend()\n",
    "plt.tight_layout()\n",
    "plt.show()\n",
    "\n",
    "# TODO: Make plot look better "
   ]
  }
 ],
 "metadata": {
  "interpreter": {
   "hash": "8674728748afb807a333babb36df543df7dc24fbc68ddeb06aebc920f3219ae3"
  },
  "kernelspec": {
   "display_name": "Python 3.9.7 64-bit ('3.9.7-Notebooks': pyenv)",
   "name": "python3"
  },
  "language_info": {
   "codemirror_mode": {
    "name": "ipython",
    "version": 3
   },
   "file_extension": ".py",
   "mimetype": "text/x-python",
   "name": "python",
   "nbconvert_exporter": "python",
   "pygments_lexer": "ipython3",
   "version": "3.9.7"
  },
  "orig_nbformat": 4
 },
 "nbformat": 4,
 "nbformat_minor": 2
}
