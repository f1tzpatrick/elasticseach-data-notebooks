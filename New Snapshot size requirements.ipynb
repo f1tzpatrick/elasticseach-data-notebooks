{
 "cells": [
  {
   "cell_type": "code",
   "execution_count": null,
   "metadata": {},
   "outputs": [],
   "source": [
    "import json\n",
    "from pathlib import Path\n",
    "from datetime import datetime\n",
    "\n",
    "import pandas as pd\n",
    "from matplotlib import pyplot as plt\n",
    "from matplotlib.ticker import FuncFormatter\n",
    "\n",
    "from python.snapshots import read_snapshot_json, lookup_snapshot_size\n",
    "from python.indices import read_indices_json, get_index_snapshot_history\n",
    "\n",
    "\n",
    "DATE = \"2021-12-07\"\n",
    "data_dir = Path.home()/\"Notebooks\"/\"Elasticsearch Data Usage\"/\"data\"/DATE"
   ]
  },
  {
   "cell_type": "code",
   "execution_count": null,
   "metadata": {},
   "outputs": [],
   "source": [
    "site_data = {}\n",
    "for site_dir in data_dir.glob('[!.]*'):\n",
    "    site = site_dir.name\n",
    "    print(f\"Reading {site} data\")\n",
    "    index_data_file = site_dir/\"indices.json\"\n",
    "    snapshots_data_file = site_dir/\"local-rgw-snapshots.json\"\n",
    "    snapshot_detail_dir = site_dir/\"snapshot_details\"\n",
    "\n",
    "    snapshot_data = read_snapshot_json(snapshots_data_file)\n",
    "    for snapshot in list(snapshot_data):\n",
    "        snapshot_data[snapshot]['site'] = site\n",
    "        detail_file = snapshot_detail_dir/f\"{snapshot}.json\"\n",
    "        size = lookup_snapshot_size(detail_file)\n",
    "        snapshot_data[snapshot].update(size)\n",
    "    snapshot_data = pd.DataFrame.from_dict(snapshot_data, orient='index')\n",
    "\n",
    "    index_data = read_indices_json(index_data_file)\n",
    "    for index in list(index_data):\n",
    "        snapshot_history = get_index_snapshot_history(snapshots_data_file, index)\n",
    "        index_data[index].update(snapshot_history)\n",
    "        \n",
    "    index_data = pd.DataFrame.from_dict(index_data, orient='index')\n",
    "\n",
    "    snapshot_data.to_csv(site_dir/f\"{site}-snapshot-history.csv\")\n",
    "    index_data.to_csv(site_dir/f\"{site}-index-history.csv\")\n",
    "\n",
    "    site_data[site] = {}\n",
    "    site_data[site]['snapshot_data'] = snapshot_data\n",
    "    site_data[site]['index_data'] = index_data\n",
    "\n",
    "\n",
    "snapshot_data = pd.concat(\n",
    "    [site_data[site]['snapshot_data'] for site in site_data]\n",
    ")\n",
    "index_data = pd.concat(\n",
    "    [site_data[site]['index_data'] for site in site_data]\n",
    ")"
   ]
  },
  {
   "cell_type": "code",
   "execution_count": 3,
   "metadata": {},
   "outputs": [],
   "source": [
    "snapshot_data.to_csv(data_dir/f\"snapshot-history.csv\")\n",
    "index_data.to_csv(data_dir/f\"index-history.csv\")"
   ]
  },
  {
   "cell_type": "code",
   "execution_count": 4,
   "metadata": {},
   "outputs": [
    {
     "name": "stdout",
     "output_type": "stream",
     "text": [
      "Each day (GiB): \n",
      "\n",
      "kind\n",
      "non-security-logs    16.764209\n",
      "security-logs        24.614419\n",
      "Name: total_size_bytes, dtype: float64\n"
     ]
    }
   ],
   "source": [
    "# Anticipated Storage Req based on recent usage patterns\n",
    "recent_cutoff = datetime.today() - pd.to_timedelta('30d')\n",
    "recent_snapshots = snapshot_data[snapshot_data.start_time_utc > recent_cutoff]\n",
    "snapshot_daily_incremental = recent_snapshots.groupby(['kind'])['total_size_bytes']\n",
    "\n",
    "# avg_snapshot_daily_incremental = snapshot_daily_incremental.groupby(['kind']).mean()\n",
    "# print(f\"Each day (GiB): \\n\\n{avg_snapshot_daily_incremental}\")\n",
    "\n",
    "daily_size = snapshot_daily_incremental.mean() / 1024 ** 3\n",
    "print(f\"Each day (GiB): \\n\\n{daily_size}\")"
   ]
  },
  {
   "cell_type": "code",
   "execution_count": null,
   "metadata": {},
   "outputs": [],
   "source": [
    "\n",
    "recent_snapshots[recent_snapshots['snapshot_date'] == datetime.date(2021, 9, 1)]\n"
   ]
  },
  {
   "cell_type": "code",
   "execution_count": 71,
   "metadata": {},
   "outputs": [
    {
     "name": "stdout",
     "output_type": "stream",
     "text": [
      "Each day (GiB): \n",
      "\n",
      "kind\n",
      "airship            7.357143\n",
      "auth               0.010093\n",
      "calico             0.876050\n",
      "ceph               0.899316\n",
      "flows              3.535714\n",
      "ingress            0.001566\n",
      "journal            0.102448\n",
      "kernel_syslog      0.181240\n",
      "kubernetes        11.382143\n",
      "libvirt            0.097255\n",
      "lma                2.864286\n",
      "logstash           1.300000\n",
      "openstack          5.462069\n",
      "tenant-ceph        1.785714\n",
      "utility_access     0.008050\n",
      "Name: primary_size_bytes, dtype: float64\n"
     ]
    }
   ],
   "source": [
    "daily_size = index_data.groupby(['site', 'kind', 'index_date'])['primary_size_bytes'].sum() / 1024 ** 3\n",
    "daily_size  = daily_size.groupby(['kind']).mean()\n",
    "print(f\"Each day (GiB): \\n\\n{daily_size}\")\n",
    "\n"
   ]
  },
  {
   "cell_type": "code",
   "execution_count": 41,
   "metadata": {},
   "outputs": [
    {
     "data": {
      "text/plain": [
       "35.86308782793618"
      ]
     },
     "execution_count": 41,
     "metadata": {},
     "output_type": "execute_result"
    }
   ],
   "source": [
    "daily_size.sum()"
   ]
  },
  {
   "cell_type": "code",
   "execution_count": null,
   "metadata": {},
   "outputs": [],
   "source": []
  }
 ],
 "metadata": {
  "interpreter": {
   "hash": "8674728748afb807a333babb36df543df7dc24fbc68ddeb06aebc920f3219ae3"
  },
  "kernelspec": {
   "display_name": "Python 3.9.7 64-bit ('3.9.7-Notebooks': pyenv)",
   "name": "python3"
  },
  "language_info": {
   "codemirror_mode": {
    "name": "ipython",
    "version": 3
   },
   "file_extension": ".py",
   "mimetype": "text/x-python",
   "name": "python",
   "nbconvert_exporter": "python",
   "pygments_lexer": "ipython3",
   "version": "3.9.7"
  },
  "orig_nbformat": 4
 },
 "nbformat": 4,
 "nbformat_minor": 2
}
